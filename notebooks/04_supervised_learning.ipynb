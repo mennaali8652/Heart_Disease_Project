{
 "cells": [
  {
   "cell_type": "markdown",
   "id": "ea8aa315",
   "metadata": {},
   "source": [
    "# **4. Model Training & Evaluation**"
   ]
  },
  {
   "cell_type": "code",
   "execution_count": 6,
   "id": "c4c0f8ec",
   "metadata": {},
   "outputs": [],
   "source": [
    "import pandas as pd\n",
    "from sklearn.model_selection import train_test_split\n",
    "\n",
    "df_reduced = pd.read_csv(\"../data/heart_reduced.csv\")\n",
    "\n",
    "X_reduced = df_reduced.drop(columns='num')\n",
    "y = df_reduced['num'].astype(int)"
   ]
  },
  {
   "cell_type": "markdown",
   "id": "f44e7768",
   "metadata": {},
   "source": [
    "## **4.1 Supervised Learning – Classification Models**\n"
   ]
  },
  {
   "cell_type": "code",
   "execution_count": 7,
   "id": "e64390b6",
   "metadata": {},
   "outputs": [
    {
     "name": "stdout",
     "output_type": "stream",
     "text": [
      "X_train shape: (237, 9)\n",
      "X_test shape: (60, 9)\n",
      "y_train shape: (237,)\n",
      "y_test shape: (60,)\n"
     ]
    }
   ],
   "source": [
    "# 1. Train/Test Split\n",
    "from sklearn.model_selection import train_test_split\n",
    "\n",
    "X_train, X_test, y_train, y_test = train_test_split(X_reduced, y, test_size=0.2, stratify=y, random_state=42)\n",
    "\n",
    "print(\"X_train shape:\", X_train.shape)\n",
    "print(\"X_test shape:\", X_test.shape)\n",
    "print(\"y_train shape:\", y_train.shape)\n",
    "print(\"y_test shape:\", y_test.shape)"
   ]
  },
  {
   "cell_type": "code",
   "execution_count": 8,
   "id": "e22764d0",
   "metadata": {},
   "outputs": [
    {
     "name": "stdout",
     "output_type": "stream",
     "text": [
      "Logistic Regression trained.\n",
      "Decision Tree trained.\n",
      "Random Forest trained.\n",
      "SVM trained.\n"
     ]
    }
   ],
   "source": [
    "# 2. Train Models\n",
    "from sklearn.linear_model import LogisticRegression\n",
    "from sklearn.tree import DecisionTreeClassifier\n",
    "from sklearn.ensemble import RandomForestClassifier\n",
    "from sklearn.svm import SVC\n",
    "\n",
    "# Define models\n",
    "models = {\n",
    "    \"Logistic Regression\": LogisticRegression(max_iter=1000, solver=\"liblinear\", class_weight=\"balanced\"),\n",
    "    \"Decision Tree\": DecisionTreeClassifier(random_state=42, class_weight=\"balanced\"),\n",
    "    \"Random Forest\": RandomForestClassifier(n_estimators=300, random_state=42, class_weight=\"balanced_subsample\"),\n",
    "    \"SVM\": SVC(kernel=\"rbf\", probability=True, class_weight=\"balanced\", decision_function_shape=\"ovr\", random_state=42)\n",
    "}\n",
    "\n",
    "# Train models\n",
    "for name, model in models.items():\n",
    "    model.fit(X_train, y_train)\n",
    "    print(f\"{name} trained.\")\n"
   ]
  },
  {
   "cell_type": "code",
   "execution_count": null,
   "id": "1e1f6051",
   "metadata": {},
   "outputs": [
    {
     "name": "stdout",
     "output_type": "stream",
     "text": [
      "                     Accuracy  Precision    Recall  F1 Score\n",
      "Model                                                       \n",
      "Logistic Regression  0.766667   0.822796  0.766667  0.790929\n",
      "Decision Tree        0.816667   0.794937  0.816667  0.803225\n",
      "Random Forest        0.816667   0.692090  0.816667  0.749235\n",
      "SVM                  0.716667   0.872917  0.716667  0.773232\n"
     ]
    }
   ],
   "source": [
    "# 3. Evaluate Models\n",
    "from sklearn.metrics import accuracy_score, precision_score, recall_score, f1_score\n",
    "\n",
    "results = []\n",
    "\n",
    "for name, model in models.items():\n",
    "    y_pred = model.predict(X_test)\n",
    "\n",
    "    acc = accuracy_score(y_test, y_pred)\n",
    "    prec = precision_score(y_test, y_pred, average='weighted', zero_division=0)\n",
    "    rec = recall_score(y_test, y_pred, average='weighted', zero_division=0)\n",
    "    f1 = f1_score(y_test, y_pred, average='weighted', zero_division=0)\n",
    "\n",
    "    results.append([name, acc, prec, rec, f1])\n",
    "\n",
    "# Show Results in a table\n",
    "results_df = pd.DataFrame(results, columns=[\"Model\", \"Accuracy\", \"Precision\", \"Recall\", \"F1 Score\"]) # Updated column names\n",
    "results_df.set_index(\"Model\", inplace=True)\n",
    "print(results_df)"
   ]
  },
  {
   "cell_type": "markdown",
   "id": "bce9679a",
   "metadata": {},
   "source": [
    "\n",
    "\n",
    "---\n",
    "\n"
   ]
  }
 ],
 "metadata": {
  "kernelspec": {
   "display_name": "Python 3",
   "language": "python",
   "name": "python3"
  },
  "language_info": {
   "codemirror_mode": {
    "name": "ipython",
    "version": 3
   },
   "file_extension": ".py",
   "mimetype": "text/x-python",
   "name": "python",
   "nbconvert_exporter": "python",
   "pygments_lexer": "ipython3",
   "version": "3.11.2"
  }
 },
 "nbformat": 4,
 "nbformat_minor": 5
}
